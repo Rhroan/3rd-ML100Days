{
 "cells": [
  {
   "cell_type": "code",
   "execution_count": 2,
   "metadata": {},
   "outputs": [
    {
     "ename": "SyntaxError",
     "evalue": "invalid syntax (<ipython-input-2-32355916e333>, line 1)",
     "output_type": "error",
     "traceback": [
      "\u001b[1;36m  File \u001b[1;32m\"<ipython-input-2-32355916e333>\"\u001b[1;36m, line \u001b[1;32m1\u001b[0m\n\u001b[1;33m    請至以下機器學習巨頭的 blog 參觀，試著閱讀一篇文章並分析其\u001b[0m\n\u001b[1;37m                   ^\u001b[0m\n\u001b[1;31mSyntaxError\u001b[0m\u001b[1;31m:\u001b[0m invalid syntax\n"
     ]
    }
   ],
   "source": [
    "請至以下機器學習巨頭的 blog 參觀，試著閱讀一篇文章並分析其 \n",
    "\n",
    "作業 1：目標\n",
    "\n",
    "作業 2：方法\n",
    "\n",
    "作業 3：資料來源 \n",
    "\n",
    "\n",
    "    Google AI blog :Exploring Weight Agnostic Neural Networks         \n",
    "    與權重無關的神經網路\n",
    "    \n",
    "    1.目標：\n",
    "        找出賽車要移動的軌跡\n",
    "        \n",
    "    2.方法：從像素任務中找到了一個簡單的WANN用於賽車，無需明確訓練網絡權重。\n",
    "    \n",
    "    3.資料來源：\n",
    "        遊戲畫面影像\n",
    "   \n",
    "\n",
    "\n"
   ]
  }
 ],
 "metadata": {
  "kernelspec": {
   "display_name": "Python 3",
   "language": "python",
   "name": "python3"
  },
  "language_info": {
   "codemirror_mode": {
    "name": "ipython",
    "version": 3
   },
   "file_extension": ".py",
   "mimetype": "text/x-python",
   "name": "python",
   "nbconvert_exporter": "python",
   "pygments_lexer": "ipython3",
   "version": "3.7.3"
  }
 },
 "nbformat": 4,
 "nbformat_minor": 4
}
