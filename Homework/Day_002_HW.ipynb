{
 "cells": [
  {
   "cell_type": "code",
   "execution_count": 2,
   "metadata": {},
   "outputs": [],
   "source": [
    "#請找出一個你認為機器學習可以發光發熱的領域並闡述原因?\n",
    "\n",
    "#醫療領域：\n",
    "\n",
    "  醫師的經驗隨著時間在累積，每天可以用來吸收新的醫療資訊時間也很有限\n",
    "    機器學習可以不疲累的快速學習與吸收新的醫療資訊\n",
    "    透過AI協助的判斷，可以縮減醫師誤判的時間，加快判定病因\n",
    "    讓病人可以快速地得到正確的治療。\n",
    "\n",
    "\n",
    "\n",
    "\n",
    "\n"
   ]
  }
 ],
 "metadata": {
  "kernelspec": {
   "display_name": "Python 3",
   "language": "python",
   "name": "python3"
  },
  "language_info": {
   "codemirror_mode": {
    "name": "ipython",
    "version": 3
   },
   "file_extension": ".py",
   "mimetype": "text/x-python",
   "name": "python",
   "nbconvert_exporter": "python",
   "pygments_lexer": "ipython3",
   "version": "3.7.3"
  }
 },
 "nbformat": 4,
 "nbformat_minor": 4
}
