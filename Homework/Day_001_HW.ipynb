{
 "cells": [
  {
   "cell_type": "code",
   "execution_count": null,
   "metadata": {},
   "outputs": [],
   "source": [
    "#作業一：\n",
    "\n",
    "#請寫一個函式用來計算 Mean Square Error\n",
    "\n",
    "#$ MSE = \\frac{1}{n}\\sum_{i=1}^{n}{(Y_i - \\hat{Y}_i)^2} $\n",
    "\n",
    "#方法一：\n",
    "def mean_absolute_error(y, yp):\n",
    "    d1 = y - yp   # 先計算出 y_pred 與 y的各點差距\n",
    "    mse = (1/len(y))*d1.dot(d1) # 將d1陣列中每個點都相乘再一起,在除平均 可獲得MSE\n",
    "    return mse\n",
    "\n",
    "MSE=mean_absolute_error(y, y_hat)    \n",
    "print(\"The Mean squared error is %.3f\" % (MSE))\n",
    "\n",
    "\n",
    "#方法二：使用 np直接計算\n",
    "MSE = np.square(np.subtract(y,yp)).mean() \n",
    "print(\"The Mean squared error is %.3f\" % (MSE))\n",
    "\n",
    "\n",
    "\n",
    "#方法三：使用 sklearn套件\n",
    "\n",
    "from sklearn.metrics import mean_squared_error\n",
    "MSE=mean_squared_error(y, yp)\n",
    "print(\"The Mean squared error is %.3f\" % (MSE))\n",
    "\n",
    "\n"
   ]
  },
  {
   "cell_type": "code",
   "execution_count": null,
   "metadata": {},
   "outputs": [],
   "source": [
    "\n",
    "作業二：#######--------------------------作業二\n",
    "\n",
    "1.你選的這組資料為何重要  \n",
    "\n",
    "    此資料紀錄全球 1995~2016年 震度>5.5 或更高的資料，包含時間、地點、深度、震級與來源紀錄\n",
    "\n",
    "2.資料從何而來 (tips: 譬如提供者是誰、以什麼方式蒐集)\n",
    "\n",
    "    提供者：美國国家地震信息中心（NEIC）\n",
    "    \n",
    "\n",
    "3.蒐集而來的資料型態為何\n",
    "    \n",
    "    資料型態:都是excel   \n",
    "    數據中之意義又分為:日期、時間、緯度、經度、類型、深度、深度误差、深度地震台站、大小、幅度类型、幅度误差\n",
    "    震级地震台站、Azimuthal Gap、水平距离、水平误差、均方根、ID、资源、位置来源、幅度来源、状态\n",
    "\n",
    "4.這組資料想解決的問題如何評估\n",
    "\n",
    "    想解決的問題-->預測地震可能發生時間\n",
    "    如何評估-->該地區地震是否會因周圍區域發生地震後也增加地震發生機率"
   ]
  },
  {
   "cell_type": "raw",
   "metadata": {},
   "source": [
    "\n",
    "作業3：想像你經營一個自由載客車隊，你希望能透過數據分析以提升業績，請你思考並描述你如何規劃整體的分析/解決方案：\n",
    "\n",
    "1. 核心問題為何 (tips：如何定義 「提升業績 & 你的假設」)\n",
    "   (1).如何縮短等待載客時間：空車時間越短，載客率越高\n",
    "   (2).在何地可以載到客人:客人越多，收入越高\n",
    "   (3).哪邊的客人會搭乘較長的距離：客人搭乘的時間長，收入越高\n",
    "\n",
    "2. 資料從何而來 (tips：哪些資料可能會對你想問的問題產生影響 & 資料如何蒐集)\n",
    "   (1).載到客人的日期、時間，周一到周日 哪時時段客人量最多：車上載人紀錄的時間記錄\n",
    "   (2).地點，如何容易載到乘客且速度快，且不易塞車：車上載人的GPS定位紀錄，路程紀錄\n",
    "   (3).時間、里程數：客搭乘的時間與里程數如何取得平衡，取得最大收入\n",
    "\n",
    "3. 蒐集而來的資料型態為何\n",
    "    (1)日期、時間\n",
    "    (2)經緯度\n",
    "    (3)時間長短、載客距離\n",
    "\n",
    "4. 你要回答的問題，其如何評估 (tips：你的假設如何驗證)\n",
    "   (1)司機的平均收入是否增加\n",
    "   (2)司機空車時間是否縮短\n",
    "    \n",
    "    "
   ]
  },
  {
   "cell_type": "code",
   "execution_count": null,
   "metadata": {},
   "outputs": [],
   "source": []
  }
 ],
 "metadata": {
  "kernelspec": {
   "display_name": "Python 3",
   "language": "python",
   "name": "python3"
  },
  "language_info": {
   "codemirror_mode": {
    "name": "ipython",
    "version": 3
   },
   "file_extension": ".py",
   "mimetype": "text/x-python",
   "name": "python",
   "nbconvert_exporter": "python",
   "pygments_lexer": "ipython3",
   "version": "3.7.3"
  }
 },
 "nbformat": 4,
 "nbformat_minor": 4
}
